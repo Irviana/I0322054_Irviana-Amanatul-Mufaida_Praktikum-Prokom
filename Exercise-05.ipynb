{
 "cells": [
  {
   "attachments": {},
   "cell_type": "markdown",
   "metadata": {},
   "source": [
    "1. Diberikan List sebagai berikut!"
   ]
  },
  {
   "cell_type": "code",
   "execution_count": null,
   "metadata": {},
   "outputs": [],
   "source": [
    "list1 = ['a','b','c']\n",
    "list2 = ['c','d','e']"
   ]
  },
  {
   "attachments": {},
   "cell_type": "markdown",
   "metadata": {},
   "source": [
    "Buatlah program pengulangan untuk menampilkan elemen dalam kedua list tersebut yang sama! (Contoh Output \"Nilai yang sama adalah 'C'\")"
   ]
  },
  {
   "cell_type": "code",
   "execution_count": 1,
   "metadata": {},
   "outputs": [
    {
     "name": "stdout",
     "output_type": "stream",
     "text": [
      "Nilai yang sama adalah c\n"
     ]
    }
   ],
   "source": [
    "# Kerjakan nomor 1 di sini\n",
    "list1 = ['a','b','c']\n",
    "list2 = ['c','d','e']\n",
    "for huruf in list1:\n",
    "    if huruf in list2:\n",
    "        print(\"Nilai yang sama adalah {}\".format (huruf))"
   ]
  },
  {
   "attachments": {},
   "cell_type": "markdown",
   "metadata": {},
   "source": [
    "2. Buatlah sebuah list yang berisi daftar mata kuliah di Teknik Industri UNS (minimal 10 matkul). Kemudian buat program pencarian menggunakan pengulangan. Apabila nama matkul yang user inputkan sudah sesuai dengan isi list maka program akan berhenti dan menampilkan output \"Mata Kuliah (matkul yang diinput user) adalah mata kuliah di Teknik Industri UNS\"."
   ]
  },
  {
   "cell_type": "code",
   "execution_count": 5,
   "metadata": {},
   "outputs": [
    {
     "name": "stdout",
     "output_type": "stream",
     "text": [
      "Mata kuliah Kalkulus adalah mata kuliah di Teknik Industri UNS\n"
     ]
    }
   ],
   "source": [
    "# Kerjakan nomor 2 di sini\n",
    "matkul = [\"Kimia Dasar\", \"Kalkulus\", \"Sistem Lingkungan Industri\", \"Psikologi Industri\", \"Pengantar Ilmu Ekonomi\", \"Menggambar Teknik\", \"Program Komputer\", \"Biologi\", \"Fisika Dasar\", \"Mekanika Teknik\", \"Material Teknik\"]\n",
    "while True:\n",
    "    nama_matkul = input(\"Masukkan nama matkul(masukkan 'kembali' jika sudah selesai):\")\n",
    "    if nama_matkul.lower == 'kembali' :\n",
    "        break\n",
    "    elif nama_matkul in matkul :\n",
    "        print(\"Mata kuliah\", nama_matkul, \"adalah mata kuliah di Teknik Industri UNS\")\n",
    "        break\n",
    "    else:\n",
    "        print(\"Mata kuliah\", nama_matkul, \"bukan mata kuliah di Teknik Industri UNS\")"
   ]
  },
  {
   "attachments": {},
   "cell_type": "markdown",
   "metadata": {},
   "source": [
    "3. Buatlah program untuk menampilkan faktorial dari suatu bilangan dimana bilangan tersebut didapat melalui input user!"
   ]
  },
  {
   "cell_type": "code",
   "execution_count": 7,
   "metadata": {},
   "outputs": [
    {
     "name": "stdout",
     "output_type": "stream",
     "text": [
      "Faktorial dari 9 adalah 362880\n"
     ]
    }
   ],
   "source": [
    "# Kerjakan nomor 3 di sini\n",
    "f = int(input(\"masukkan bilangan: \"))\n",
    "faktorial = 1\n",
    "for i in range(1,f+1):\n",
    "    faktorial = faktorial * i\n",
    "print(f\"Faktorial dari {f} adalah {faktorial}\")"
   ]
  }
 ],
 "metadata": {
  "kernelspec": {
   "display_name": "Python 3",
   "language": "python",
   "name": "python3"
  },
  "language_info": {
   "codemirror_mode": {
    "name": "ipython",
    "version": 3
   },
   "file_extension": ".py",
   "mimetype": "text/x-python",
   "name": "python",
   "nbconvert_exporter": "python",
   "pygments_lexer": "ipython3",
   "version": "3.10.7"
  },
  "orig_nbformat": 4
 },
 "nbformat": 4,
 "nbformat_minor": 2
}
