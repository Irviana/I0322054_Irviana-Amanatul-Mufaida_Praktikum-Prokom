{
 "cells": [
  {
   "cell_type": "code",
   "execution_count": 1,
   "metadata": {},
   "outputs": [
    {
     "name": "stdout",
     "output_type": "stream",
     "text": [
      "Irviana Amanatul Mufaida\n",
      "I0322054\n",
      "B\n"
     ]
    }
   ],
   "source": [
    "print(input(\"Nama: \"))\n",
    "print(input(\"NIM: \"))\n",
    "print(input(\"Kelas: \"))"
   ]
  },
  {
   "attachments": {},
   "cell_type": "markdown",
   "metadata": {},
   "source": [
    "## 1."
   ]
  },
  {
   "attachments": {},
   "cell_type": "markdown",
   "metadata": {},
   "source": [
    "Buatlah program yang meminta input string dari user, kemudian program akan menentukan string tersebut adalah palyndrome atau bukan.<br>\n",
    "* Palyndrome adalah kata atau kalimat yang jika dibalik hasilnya sama\n",
    "* kasur rusak adalah palyndrome\n",
    "\n",
    "> *note: Kerjakan soal ini dengan percabangan*"
   ]
  },
  {
   "cell_type": "code",
   "execution_count": 1,
   "metadata": {},
   "outputs": [
    {
     "name": "stdout",
     "output_type": "stream",
     "text": [
      "kasur ini rusak merupakan kalimat polyndrome\n"
     ]
    }
   ],
   "source": [
    "# Kerjakan soal no 1 di sini\n",
    "kalimat = str(input(\"masukkan kalimat: \"))\n",
    "hasil = kalimat [::-1]\n",
    "\n",
    "if kalimat == hasil:\n",
    "    print(kalimat, \"merupakan kalimat polyndrome\")\n",
    "else:\n",
    "    print(kalimat, \"bukan merupakan kalimat polyndrome\")\n"
   ]
  },
  {
   "attachments": {},
   "cell_type": "markdown",
   "metadata": {},
   "source": [
    "## 2."
   ]
  },
  {
   "attachments": {},
   "cell_type": "markdown",
   "metadata": {},
   "source": [
    "Buatlah program yang meminta input berupa tahun dan bulan kemudian tampilkan jumlah hari pada bulan tersebut (perbedaan pada tahun kabisat).<br>\n",
    "\n",
    "> *note: Kerjakan soal ini dengan percabangan*"
   ]
  },
  {
   "cell_type": "code",
   "execution_count": 7,
   "metadata": {},
   "outputs": [
    {
     "name": "stdout",
     "output_type": "stream",
     "text": [
      "Jumlah hari pada bulan februari tahun 2019 adalah 29 hari\n"
     ]
    }
   ],
   "source": [
    "# Kerjakan soal no 2 di sini\n",
    "tahun = int(input(\"masukkan tahun: \"))\n",
    "bulan = str(input(\"masukkan bulan: \"))\n",
    "bulan_2 = bulan.lower()\n",
    "\n",
    "bulan_hari = {\n",
    "    'tahun kabisat':{\n",
    "    'januari':31, 'februari':28, 'maret':31, 'april':30, 'mei':31, 'juni':30, 'juli':31, 'agustus':30, 'september':30, 'oktober':31, 'november':30, 'desember':31\n",
    "    },\n",
    "    'tahun normal':{\n",
    "    'januari':31, 'februari':29, 'maret':31, 'april':30, 'mei':31, 'juni':30, 'juli':31, 'agustus':30, 'september':30, 'oktober':31, 'november':30, 'desember':31\n",
    "    }\n",
    "}\n",
    "\n",
    "if tahun % 4 == 0 and (tahun % 100 !=0 or tahun % 400 == 0):\n",
    "    print(\"Jumlah hari pada bulan\", bulan, \"tahun\", tahun, \"adalah\", bulan_hari['tahun kabisat'][bulan_2], \"hari\")\n",
    "else:\n",
    "    print(\"Jumlah hari pada bulan\", bulan, \"tahun\", tahun, \"adalah\", bulan_hari['tahun normal'][bulan_2], \"hari\")\n"
   ]
  }
 ],
 "metadata": {
  "kernelspec": {
   "display_name": "Python 3",
   "language": "python",
   "name": "python3"
  },
  "language_info": {
   "codemirror_mode": {
    "name": "ipython",
    "version": 3
   },
   "file_extension": ".py",
   "mimetype": "text/x-python",
   "name": "python",
   "nbconvert_exporter": "python",
   "pygments_lexer": "ipython3",
   "version": "3.10.7"
  },
  "orig_nbformat": 4
 },
 "nbformat": 4,
 "nbformat_minor": 2
}
